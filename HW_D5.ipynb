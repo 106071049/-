{
 "cells": [
  {
   "cell_type": "code",
   "execution_count": 38,
   "metadata": {},
   "outputs": [
    {
     "name": "stdout",
     "output_type": "stream",
     "text": [
      "Requirement already satisfied: numpy in c:\\users\\user\\anaconda3\\lib\\site-packages (1.16.4)\n",
      "Note: you may need to restart the kernel to use updated packages.\n"
     ]
    }
   ],
   "source": [
    "pip install numpy"
   ]
  },
  {
   "cell_type": "code",
   "execution_count": 75,
   "metadata": {},
   "outputs": [
    {
     "name": "stdout",
     "output_type": "stream",
     "text": [
      "英文成績 :\n",
      "mean:67.16666666666667\n",
      "max:89\n",
      "min:48\n",
      "std:13.433995020924426\n",
      "數學成績 :\n",
      "mean:66.6\n",
      "max:85.0\n",
      "min:60.0\n",
      "std:9.707728879609279\n",
      "國文成績 :\n",
      "mean:75.33333333333333\n",
      "max:90\n",
      "min:65\n",
      "std:8.825468196582484\n"
     ]
    }
   ],
   "source": [
    "import numpy as np\n",
    "english_score = np.array([55,89,76,65,48,70])\n",
    "\n",
    "math_score = np.array([60,85,60,68,np.nan,60])\n",
    "\n",
    "chinese_score = np.array([65,90,82,72,66,77])\n",
    "a = [english_score,math_score,chinese_score]\n",
    "name = ['英文成績','數學成績','國文成績']\n",
    "#請計算各科成績平均、最大值、最小值、標準差，其中數學缺一筆資料可忽略？\n",
    "for i , j in zip(a,name):\n",
    "    if np.isnan(i).any() == False:\n",
    "        print(j,\":\\nmean:{0}\\nmax:{1}\\nmin:{2}\\nstd:{3}\".format(i.mean(),i.max(),i.min(),i.std()))\n",
    "    else:\n",
    "        print(j,\":\\nmean:{0}\\nmax:{1}\\nmin:{2}\\nstd:{3}\".format(np.nanmean(i),np.nanmax(i),np.nanmin(i),np.nanstd(i)))"
   ]
  },
  {
   "cell_type": "code",
   "execution_count": 70,
   "metadata": {},
   "outputs": [
    {
     "name": "stdout",
     "output_type": "stream",
     "text": [
      "補考後數學成績:\n",
      "mean=>64.66666666666667\n",
      "max=>85\n",
      "min=>55\n",
      "std=>9.860132971832694\n"
     ]
    }
   ],
   "source": [
    "#第五位同學補考數學後成績為 55，請計算補考後數學成績平均、最大值、最小值、標準差？\n",
    "modi_math_score = np.array([60,85,60,68,55,60])\n",
    "print(\"補考後數學成績:\\nmean=>{0}\\nmax=>{1}\\nmin=>{2}\\nstd=>{3}\".format(modi_math_score.mean(),modi_math_score.max(),modi_math_score.min(),modi_math_score.std()))"
   ]
  },
  {
   "cell_type": "code",
   "execution_count": 71,
   "metadata": {},
   "outputs": [
    {
     "data": {
      "text/plain": [
       "array([[1.        , 0.74056803],\n",
       "       [0.74056803, 1.        ]])"
      ]
     },
     "execution_count": 71,
     "metadata": {},
     "output_type": "execute_result"
    }
   ],
   "source": [
    "#用補考後資料找出與國文成績相關係數最高的學科？\n",
    "x = np.stack((chinese_score,modi_math_score))\n",
    "np.corrcoef(x)"
   ]
  },
  {
   "cell_type": "code",
   "execution_count": 72,
   "metadata": {},
   "outputs": [
    {
     "data": {
      "text/plain": [
       "array([[1.        , 0.97792828],\n",
       "       [0.97792828, 1.        ]])"
      ]
     },
     "execution_count": 72,
     "metadata": {},
     "output_type": "execute_result"
    }
   ],
   "source": [
    "y = np.stack((chinese_score,english_score))\n",
    "np.corrcoef(y)"
   ]
  },
  {
   "cell_type": "code",
   "execution_count": 73,
   "metadata": {},
   "outputs": [
    {
     "name": "stdout",
     "output_type": "stream",
     "text": [
      "英文成績與國文成績相關係數0.978>0.74，英文與國文的相關係數比較高\n"
     ]
    }
   ],
   "source": [
    "print('英文成績與國文成績相關係數0.978>0.74，英文與國文的相關係數比較高')"
   ]
  },
  {
   "cell_type": "code",
   "execution_count": null,
   "metadata": {},
   "outputs": [],
   "source": []
  }
 ],
 "metadata": {
  "kernelspec": {
   "display_name": "Python 3",
   "language": "python",
   "name": "python3"
  },
  "language_info": {
   "codemirror_mode": {
    "name": "ipython",
    "version": 3
   },
   "file_extension": ".py",
   "mimetype": "text/x-python",
   "name": "python",
   "nbconvert_exporter": "python",
   "pygments_lexer": "ipython3",
   "version": "3.7.3"
  }
 },
 "nbformat": 4,
 "nbformat_minor": 2
}

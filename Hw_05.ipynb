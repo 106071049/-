{
 "cells": [
  {
   "cell_type": "code",
   "execution_count": 1,
   "metadata": {},
   "outputs": [],
   "source": [
    "import pandas as pd\n",
    "import numpy as np\n",
    "import matplotlib.pyplot as plt\n",
    " \n",
    "from sklearn.model_selection import train_test_split\n",
    "from sklearn.tree import DecisionTreeRegressor\n",
    "from sklearn.metrics import mean_squared_error as MSE\n",
    "from sklearn.metrics import mean_absolute_error as MAE\n",
    "from sklearn.metrics import mean_absolute_percentage_error as MAPE"
   ]
  },
  {
   "cell_type": "markdown",
   "metadata": {},
   "source": [
    "## 解題步驟：\n",
    "\n",
    "1. 讀取 x_train.npy, y_train.npy, x_test.npy, y_test.npy\n",
    "2. 將 training dataset 再切分為 training set, validation set (圖一)\n",
    "3. 先以上課的知識調整出一個不會 over-fitting 太多的決策樹模型\n",
    "4. 以 validation set 作為調整參數的基準，陸續調整其他參數 (請同學測試看看 validation 要佔多少比例，後續的調整會比較客觀)\n",
    "5. 將最終調整結果與一開始的決策樹做比較，誤差是否有降低\n",
    "6. 同學若也懂其他模型的知識也可以試試看一樣的做法比較看看\n",
    "\n",
    "#### 圖一 (Train, Validation and Test)\n",
    "<img src=\"./train_val_test.png\" style=\"zoom:30%;\" />\n",
    "\n",
    "#### 圖二 (是我前後調整的結果)\n",
    "<img src=\"./report.png\" style=\"zoom:30%;\" />"
   ]
  },
  {
   "cell_type": "code",
   "execution_count": 10,
   "metadata": {},
   "outputs": [
    {
     "name": "stdout",
     "output_type": "stream",
     "text": [
      "(657, 89) (657,)\n",
      "(438, 89) (438,)\n",
      "(365, 89) (365,)\n"
     ]
    }
   ],
   "source": [
    "# Read data\n",
    "\"\"\" Your code here \"\"\"\n",
    "x_train = np.load('x_train.npy')\n",
    "y_train = np.load('y_train.npy')\n",
    "x_test = np.load('x_test.npy')\n",
    "y_test = np.load('y_test.npy')\n",
    "\n",
    "x_train,x_val,y_train,y_val = train_test_split(x_train , y_train , test_size = 0.4)\n",
    "\n",
    "print(x_train.shape,y_train.shape)\n",
    "print(x_val.shape,y_val.shape)\n",
    "print(x_test.shape,y_test.shape)"
   ]
  },
  {
   "cell_type": "code",
   "execution_count": 14,
   "metadata": {},
   "outputs": [],
   "source": [
    "def regression_report(y_true , pred , verbose = True):\n",
    "    mse = MSE(y_true,pred)\n",
    "    mae = MAE(y_true,pred)\n",
    "    rmse = np.sqrt(mse)\n",
    "    mape = MAPE(y_true,pred)\n",
    "    if verbose:\n",
    "        print(f'MSE :{mse:.4f}')\n",
    "        print(f'MAE :{mae:.4f}')\n",
    "        print(f'RMSE :{rmse:.4f}')\n",
    "        print(f'MAPE :{mape:.4f}')\n",
    " # return mse, mae, rmse, mape"
   ]
  },
  {
   "cell_type": "markdown",
   "metadata": {},
   "source": [
    "## 請同學先依照上課的知識，調整一個沒有 overfitting 的決策樹，請以 mape 作為參考誤差指標，較容易看出關係"
   ]
  },
  {
   "cell_type": "code",
   "execution_count": 55,
   "metadata": {},
   "outputs": [
    {
     "name": "stdout",
     "output_type": "stream",
     "text": [
      "Train Report\n",
      "MSE :1341972283.3470\n",
      "MAE :24101.3349\n",
      "RMSE :36632.9399\n",
      "MAPE :0.1506\n",
      "\n",
      "Validation Report\n",
      "MSE :2651024400.5639\n",
      "MAE :34342.6279\n",
      "RMSE :51488.0996\n",
      "MAPE :0.1951\n",
      "\n",
      "Test Report\n",
      "MSE :2770609649.9808\n",
      "MAE :32922.7863\n",
      "RMSE :52636.5809\n",
      "MAPE :0.1877\n"
     ]
    }
   ],
   "source": [
    "\"\"\" Your code here \"\"\"\n",
    "DT = DecisionTreeRegressor(criterion = 'mae',max_depth=25 ,min_samples_split = 3,\n",
    "                           min_samples_leaf = 4 , max_features = 'sqrt',ccp_alpha = 200)\n",
    "DT.fit(x_train,y_train)\n",
    "\n",
    "print(\"Train Report\")\n",
    "pred = DT.predict(x_train)\n",
    "regression_report(y_train , pred)\n",
    "\n",
    "print(\"\\nValidation Report\")\n",
    "pred_v = DT.predict(x_val)\n",
    "regression_report(y_val,pred_v)\n",
    "\n",
    "print(\"\\nTest Report\")\n",
    "pred_T = DT.predict(x_test)\n",
    "regression_report(y_test,pred_T)"
   ]
  },
  {
   "cell_type": "markdown",
   "metadata": {},
   "source": [
    "## 調整 決策樹參數\n",
    "### 請同學從 criterion 的設定中，判斷這組資料集裡的 outlier 多嗎？"
   ]
  },
  {
   "cell_type": "code",
   "execution_count": 72,
   "metadata": {},
   "outputs": [
    {
     "data": {
      "text/plain": [
       "<matplotlib.collections.PathCollection at 0x1f535e794a8>"
      ]
     },
     "execution_count": 72,
     "metadata": {},
     "output_type": "execute_result"
    },
    {
     "data": {
      "image/png": "[encoded data removed]",
      "text/plain": [
       "<Figure size 720x240 with 2 Axes>"
      ]
     },
     "metadata": {
      "needs_background": "light"
     },
     "output_type": "display_data"
    }
   ],
   "source": [
    "params = ['mse', 'mae', 'friedman_mse', 'poisson']\n",
    "train_loss = np.zeros(len(params))\n",
    "val_loss = np.zeros(len(params))\n",
    "\n",
    "\n",
    "#i代表0,1,2,3 param代表 mse,mae.....\n",
    "for i , param in enumerate(params):\n",
    "    DT = DecisionTreeRegressor(criterion = param,max_depth=25 ,min_samples_split = 3,\n",
    "                               min_samples_leaf = 4 , max_features = 'sqrt',ccp_alpha = 200)\n",
    "    DT.fit(x_train,y_train)\n",
    "    pred = DT.predict(x_train)\n",
    "    #預測完之後用我們得到的y_hat跟真實的y做比較用MAPE來呈現出誤差的比例\n",
    "    train_loss[i] = MAPE(pred,y_train)\n",
    "    \n",
    "    pred = DT.predict(x_val)\n",
    "    #預測完之後用我們得到的y_hat跟真實的y做比較用MAPE來呈現出誤差的比例\n",
    "    val_loss[i] = MAPE(pred,y_val)\n",
    "\n",
    "plt.figure(figsize = (12,4),dpi = 60)\n",
    "plt.subplot(1,2,1)\n",
    "plt.title('train')\n",
    "plt.scatter(params,train_loss)\n",
    "\n",
    "plt.subplot(1,2,2)\n",
    "plt.title('validation')\n",
    "plt.scatter(params,val_loss)\n",
    "\n",
    "#根據圖表我們選擇friedman_mse當作我們的criterion，接著調整dept"
   ]
  },
  {
   "cell_type": "markdown",
   "metadata": {},
   "source": [
    "## 調整 max_depth\n"
   ]
  },
  {
   "cell_type": "code",
   "execution_count": 99,
   "metadata": {},
   "outputs": [
    {
     "data": {
      "text/plain": [
       "<matplotlib.collections.PathCollection at 0x1f5363312e8>"
      ]
     },
     "execution_count": 99,
     "metadata": {},
     "output_type": "execute_result"
    },
    {
     "data": {
      "image/png": "[encoded data removed]",
      "text/plain": [
       "<Figure size 720x240 with 2 Axes>"
      ]
     },
     "metadata": {
      "needs_background": "light"
     },
     "output_type": "display_data"
    }
   ],
   "source": [
    "params = np.arange(5, 40, 2)\n",
    "train_loss = np.zeros(len(params))\n",
    "val_loss = np.zeros(len(params))\n",
    "\n",
    "for i ,param in enumerate(params):\n",
    "    DT = DecisionTreeRegressor(criterion = 'friedman_mse',max_depth=param ,min_samples_split = 3,\n",
    "                               min_samples_leaf = 4 , max_features = 'sqrt',ccp_alpha = 200)\n",
    "    DT.fit(x_train,y_train)\n",
    "    pred = DT.predict(x_train)\n",
    "    #預測完之後用我們得到的y_hat跟真實的y做比較用MAPE來呈現出誤差的比例\n",
    "    train_loss[i] = MAPE(pred,y_train)\n",
    "    \n",
    "    pred = DT.predict(x_val)\n",
    "    #預測完之後用我們得到的y_hat跟真實的y做比較用MAPE來呈現出誤差的比例\n",
    "    val_loss[i] = MAPE(pred,y_val)\n",
    "\n",
    "plt.figure(figsize = (12,4),dpi = 60)\n",
    "plt.subplot(1,2,1)\n",
    "plt.title('train')\n",
    "plt.scatter(params,train_loss)\n",
    "\n",
    "plt.subplot(1,2,2)\n",
    "plt.title('validation')\n",
    "plt.scatter(params,val_loss)\n",
    "\n",
    "#根據圖表都還算接近深度就讓它25"
   ]
  },
  {
   "cell_type": "markdown",
   "metadata": {},
   "source": [
    "## Tuning min_samples_split"
   ]
  },
  {
   "cell_type": "code",
   "execution_count": 105,
   "metadata": {},
   "outputs": [
    {
     "data": {
      "text/plain": [
       "<matplotlib.collections.PathCollection at 0x1f5366c69e8>"
      ]
     },
     "execution_count": 105,
     "metadata": {},
     "output_type": "execute_result"
    },
    {
     "data": {
      "image/png": "[encoded data removed]",
      "text/plain": [
       "<Figure size 720x240 with 2 Axes>"
      ]
     },
     "metadata": {
      "needs_background": "light"
     },
     "output_type": "display_data"
    }
   ],
   "source": [
    "params = np.arange(2, 20, 1)\n",
    "train_loss = np.zeros(len(params))\n",
    "val_loss = np.zeros(len(params))\n",
    "\n",
    "for i ,param in enumerate(params):\n",
    "    DT = DecisionTreeRegressor(criterion = 'friedman_mse',max_depth=25 ,min_samples_split = param,\n",
    "                               min_samples_leaf = 4 , max_features = 'sqrt',ccp_alpha = 200)\n",
    "    DT.fit(x_train,y_train)\n",
    "    pred = DT.predict(x_train)\n",
    "    #預測完之後用我們得到的y_hat跟真實的y做比較用MAPE來呈現出誤差的比例\n",
    "    train_loss[i] = MAPE(pred,y_train)\n",
    "    \n",
    "    pred = DT.predict(x_val)\n",
    "    #預測完之後用我們得到的y_hat跟真實的y做比較用MAPE來呈現出誤差的比例\n",
    "    val_loss[i] = MAPE(pred,y_val)\n",
    "\n",
    "plt.figure(figsize = (12,4),dpi = 60)\n",
    "plt.subplot(1,2,1)\n",
    "plt.title('train')\n",
    "plt.scatter(params,train_loss)\n",
    "\n",
    "plt.subplot(1,2,2)\n",
    "plt.title('validation')\n",
    "plt.scatter(params,val_loss)\n",
    "\n",
    "#照圖調成7好像會更好"
   ]
  },
  {
   "cell_type": "code",
   "execution_count": 112,
   "metadata": {},
   "outputs": [
    {
     "data": {
      "text/plain": [
       "<matplotlib.collections.PathCollection at 0x1f537c3e2e8>"
      ]
     },
     "execution_count": 112,
     "metadata": {},
     "output_type": "execute_result"
    },
    {
     "data": {
      "image/png": "[encoded data removed]",
      "text/plain": [
       "<Figure size 720x240 with 2 Axes>"
      ]
     },
     "metadata": {
      "needs_background": "light"
     },
     "output_type": "display_data"
    }
   ],
   "source": [
    "params = np.arange(2, 10, 1)\n",
    "train_loss = np.zeros(len(params))\n",
    "val_loss = np.zeros(len(params))\n",
    "\n",
    "for i ,param in enumerate(params):\n",
    "    DT = DecisionTreeRegressor(criterion = 'friedman_mse',max_depth=25 ,min_samples_split = 7,\n",
    "                               min_samples_leaf = param , max_features = 'sqrt',ccp_alpha = 200)\n",
    "    DT.fit(x_train,y_train)\n",
    "    pred = DT.predict(x_train)\n",
    "    #預測完之後用我們得到的y_hat跟真實的y做比較用MAPE來呈現出誤差的比例\n",
    "    train_loss[i] = MAPE(pred,y_train)\n",
    "    \n",
    "    pred = DT.predict(x_val)\n",
    "    #預測完之後用我們得到的y_hat跟真實的y做比較用MAPE來呈現出誤差的比例\n",
    "    val_loss[i] = MAPE(pred,y_val)\n",
    "\n",
    "plt.figure(figsize = (12,4),dpi = 60)\n",
    "plt.subplot(1,2,1)\n",
    "plt.title('train')\n",
    "plt.scatter(params,train_loss)\n",
    "\n",
    "plt.subplot(1,2,2)\n",
    "plt.title('validation')\n",
    "plt.scatter(params,val_loss)\n",
    "\n",
    "#min_samples_leaf調成3"
   ]
  },
  {
   "cell_type": "code",
   "execution_count": 113,
   "metadata": {},
   "outputs": [
    {
     "data": {
      "text/plain": [
       "<matplotlib.collections.PathCollection at 0x1f537d0bb00>"
      ]
     },
     "execution_count": 113,
     "metadata": {},
     "output_type": "execute_result"
    },
    {
     "data": {
      "image/png": "[encoded data removed]",
      "text/plain": [
       "<Figure size 720x240 with 2 Axes>"
      ]
     },
     "metadata": {
      "needs_background": "light"
     },
     "output_type": "display_data"
    }
   ],
   "source": [
    "params = ['auto','sqrt','log2']\n",
    "train_loss = np.zeros(len(params))\n",
    "val_loss = np.zeros(len(params))\n",
    "\n",
    "for i ,param in enumerate(params):\n",
    "    DT = DecisionTreeRegressor(criterion = 'friedman_mse',max_depth=25 ,min_samples_split = 7,\n",
    "                               min_samples_leaf = 3 , max_features = param ,ccp_alpha = 200)\n",
    "    DT.fit(x_train,y_train)\n",
    "    pred = DT.predict(x_train)\n",
    "    #預測完之後用我們得到的y_hat跟真實的y做比較用MAPE來呈現出誤差的比例\n",
    "    train_loss[i] = MAPE(pred,y_train)\n",
    "    \n",
    "    pred = DT.predict(x_val)\n",
    "    #預測完之後用我們得到的y_hat跟真實的y做比較用MAPE來呈現出誤差的比例\n",
    "    val_loss[i] = MAPE(pred,y_val)\n",
    "\n",
    "plt.figure(figsize = (12,4),dpi = 60)\n",
    "plt.subplot(1,2,1)\n",
    "plt.title('train')\n",
    "plt.scatter(params,train_loss)\n",
    "\n",
    "plt.subplot(1,2,2)\n",
    "plt.title('validation')\n",
    "plt.scatter(params,val_loss)\n",
    "\n",
    "#調成auto比較優"
   ]
  },
  {
   "cell_type": "code",
   "execution_count": 119,
   "metadata": {},
   "outputs": [
    {
     "data": {
      "text/plain": [
       "<matplotlib.collections.PathCollection at 0x1f5381571d0>"
      ]
     },
     "execution_count": 119,
     "metadata": {},
     "output_type": "execute_result"
    },
    {
     "data": {
      "image/png": "[encoded data removed]",
      "text/plain": [
       "<Figure size 720x240 with 2 Axes>"
      ]
     },
     "metadata": {
      "needs_background": "light"
     },
     "output_type": "display_data"
    }
   ],
   "source": [
    "params = np.arange(10,300,10)\n",
    "train_loss = np.zeros(len(params))\n",
    "val_loss = np.zeros(len(params))\n",
    "\n",
    "for i ,param in enumerate(params):\n",
    "    DT = DecisionTreeRegressor(criterion = 'friedman_mse',max_depth=25 ,min_samples_split = 7,\n",
    "                               min_samples_leaf = 3 , max_features = 'auto' ,ccp_alpha = 200)\n",
    "    DT.fit(x_train,y_train)\n",
    "    pred = DT.predict(x_train)\n",
    "    #預測完之後用我們得到的y_hat跟真實的y做比較用MAPE來呈現出誤差的比例\n",
    "    train_loss[i] = MAPE(pred,y_train)\n",
    "    \n",
    "    pred = DT.predict(x_val)\n",
    "    #預測完之後用我們得到的y_hat跟真實的y做比較用MAPE來呈現出誤差的比例\n",
    "    val_loss[i] = MAPE(pred,y_val)\n",
    "\n",
    "plt.figure(figsize = (12,4),dpi = 60)\n",
    "plt.subplot(1,2,1)\n",
    "plt.title('train')\n",
    "plt.scatter(params,train_loss)\n",
    "\n",
    "plt.subplot(1,2,2)\n",
    "plt.title('validation')\n",
    "plt.scatter(params,val_loss)\n",
    "\n",
    "#這個先不動 仍維持200"
   ]
  },
  {
   "cell_type": "markdown",
   "metadata": {},
   "source": [
    "## Final Report"
   ]
  },
  {
   "cell_type": "code",
   "execution_count": 122,
   "metadata": {},
   "outputs": [
    {
     "name": "stdout",
     "output_type": "stream",
     "text": [
      "Train Report\n",
      "MSE :213935053.7286\n",
      "MAE :8356.0515\n",
      "RMSE :14626.5189\n",
      "MAPE :0.0479\n",
      "\n",
      "Validation Report\n",
      "MSE :1671546085.1177\n",
      "MAE :25563.4692\n",
      "RMSE :40884.5458\n",
      "MAPE :0.1485\n",
      "\n",
      "Test Report\n",
      "MSE :2229044040.6500\n",
      "MAE :28949.9280\n",
      "RMSE :47212.7529\n",
      "MAPE :0.1618\n"
     ]
    }
   ],
   "source": [
    "DT = DecisionTreeRegressor(criterion = 'friedman_mse',max_depth=25 ,min_samples_split = 7,\n",
    "                               min_samples_leaf = 3 , max_features = 'auto' ,ccp_alpha = 200)\n",
    "\n",
    "DT.fit(x_train,y_train)\n",
    "\n",
    "print(\"Train Report\")\n",
    "pred = DT.predict(x_train)\n",
    "regression_report(y_train , pred)\n",
    "\n",
    "print(\"\\nValidation Report\")\n",
    "pred_v = DT.predict(x_val)\n",
    "regression_report(y_val,pred_v)\n",
    "\n",
    "print(\"\\nTest Report\")\n",
    "pred_T = DT.predict(x_test)\n",
    "regression_report(y_test,pred_T)"
   ]
  },
  {
   "cell_type": "code",
   "execution_count": null,
   "metadata": {},
   "outputs": [],
   "source": []
  }
 ],
 "metadata": {
  "interpreter": {
   "hash": "aee8b7b246df8f9039afb4144a1f6fd8d2ca17a180786b69acc140d282b71a49"
  },
  "kernelspec": {
   "display_name": "Python 3",
   "language": "python",
   "name": "python3"
  },
  "language_info": {
   "codemirror_mode": {
    "name": "ipython",
    "version": 3
   },
   "file_extension": ".py",
   "mimetype": "text/x-python",
   "name": "python",
   "nbconvert_exporter": "python",
   "pygments_lexer": "ipython3",
   "version": "3.7.3"
  }
 },
 "nbformat": 4,
 "nbformat_minor": 2
}

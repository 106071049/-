{
 "cells": [
  {
   "cell_type": "code",
   "execution_count": 1,
   "metadata": {},
   "outputs": [
    {
     "name": "stdout",
     "output_type": "stream",
     "text": [
      "Requirement already satisfied: numpy in c:\\users\\user\\anaconda3\\lib\\site-packages (1.16.4)\n",
      "Note: you may need to restart the kernel to use updated packages.\n"
     ]
    }
   ],
   "source": [
    "pip install numpy"
   ]
  },
  {
   "cell_type": "code",
   "execution_count": 5,
   "metadata": {},
   "outputs": [
    {
     "name": "stdout",
     "output_type": "stream",
     "text": [
      "人類正常的談話的聲壓為 20000 微巴斯卡為 60.0 分貝\n"
     ]
    }
   ],
   "source": [
    "import numpy as np\n",
    "V_orig = 20\n",
    "speaking = 20000\n",
    "GdB = 20*np.log10(speaking/V_orig)\n",
    "print('人類正常的談話的聲壓為 20000 微巴斯卡為' ,GdB ,'分貝')"
   ]
  },
  {
   "cell_type": "code",
   "execution_count": 25,
   "metadata": {},
   "outputs": [
    {
     "name": "stdout",
     "output_type": "stream",
     "text": [
      "30 分貝的聲壓會是 50 分貝的 0.1 倍\n"
     ]
    }
   ],
   "source": [
    "g = [30,50]\n",
    "kong =[]\n",
    "for i in g:\n",
    "    c = 20*10**(i/20)\n",
    "    kong.append(c)\n",
    "multi = kong[0]/kong[1]\n",
    "print(str(g[0]),'分貝的聲壓會是',str(g[1]),'分貝的',np.round(multi,decimals=9),'倍')"
   ]
  },
  {
   "cell_type": "code",
   "execution_count": null,
   "metadata": {},
   "outputs": [],
   "source": []
  }
 ],
 "metadata": {
  "kernelspec": {
   "display_name": "Python 3",
   "language": "python",
   "name": "python3"
  },
  "language_info": {
   "codemirror_mode": {
    "name": "ipython",
    "version": 3
   },
   "file_extension": ".py",
   "mimetype": "text/x-python",
   "name": "python",
   "nbconvert_exporter": "python",
   "pygments_lexer": "ipython3",
   "version": "3.7.3"
  }
 },
 "nbformat": 4,
 "nbformat_minor": 2
}
